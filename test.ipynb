{
 "cells": [
  {
   "cell_type": "code",
   "execution_count": 21,
   "metadata": {},
   "outputs": [],
   "source": [
    "# imports, run always\n",
    "import numpy as np\n",
    "#import tensorflow as tf\n",
    "import pandas as pd\n",
    "import yfinance as yf\n",
    "import datetime as dt"
   ]
  },
  {
   "cell_type": "code",
   "execution_count": 29,
   "metadata": {},
   "outputs": [
    {
     "name": "stdout",
     "output_type": "stream",
     "text": [
      "            High   Low  Open  Close     Volume  Adj Close\n",
      "Date                                                     \n",
      "2020-02-26  7.46  7.21  7.30   7.21   92469500   7.137183\n",
      "2020-02-27  7.28  6.92  7.13   6.97  118642400   6.899607\n"
     ]
    }
   ],
   "source": [
    "# test lines, run what you need\n",
    "now = dt.datetime.now()\n",
    "twothousand = dt.datetime(2020, 2, 26, 0, 0, 0)\n",
    "endtime = twothousand + dt.timedelta(days = 1, hours = 0)\n",
    "ford = pdr.DataReader(\"F\", \"yahoo\", twothousand, endtime)\n",
    "print(ford)"
   ]
  },
  {
   "cell_type": "code",
   "execution_count": 23,
   "metadata": {},
   "outputs": [
    {
     "name": "stdout",
     "output_type": "stream",
     "text": [
      "gianna test\n"
     ]
    }
   ],
   "source": [
    "print(\"gianna test\")"
   ]
  }
 ],
 "metadata": {
  "interpreter": {
   "hash": "73747b0b92f03c88de6e71faef777f6bd2277177a2d3c38f5227d7c796deb457"
  },
  "kernelspec": {
   "display_name": "Python 3.9.10 64-bit (windows store)",
   "language": "python",
   "name": "python3"
  },
  "language_info": {
   "codemirror_mode": {
    "name": "ipython",
    "version": 3
   },
   "file_extension": ".py",
   "mimetype": "text/x-python",
   "name": "python",
   "nbconvert_exporter": "python",
   "pygments_lexer": "ipython3",
   "version": "3.9.10"
  },
  "orig_nbformat": 4
 },
 "nbformat": 4,
 "nbformat_minor": 2
}
