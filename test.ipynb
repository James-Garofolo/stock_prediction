{
 "cells": [
  {
   "cell_type": "code",
   "execution_count": 1,
   "metadata": {},
   "outputs": [],
   "source": [
    "# imports, run always\n",
    "import numpy as np\n",
    "#import tensorflow as tf\n",
    "import pandas as pd\n",
    "import yfinance as yf\n",
    "import datetime as dt"
   ]
  },
  {
   "cell_type": "code",
   "execution_count": 43,
   "metadata": {},
   "outputs": [
    {
     "name": "stdout",
     "output_type": "stream",
     "text": [
      "[*********************100%***********************]  1 of 1 completed\n",
      "                 Open       High        Low      Close  Adj Close     Volume\n",
      "Date                                                                        \n",
      "1973-01-02   2.583053   2.587108   2.550613   2.562778   0.333699    1784821\n",
      "1973-01-03   2.562778   2.562778   2.510062   2.534392   0.330003    1926620\n",
      "1973-01-04   2.534392   2.603328   2.518172   2.599273   0.338451    4025866\n",
      "1973-01-05   2.599273   2.611438   2.570888   2.599273   0.338451    4133757\n",
      "1973-01-08   2.599273   2.615493   2.578998   2.615493   0.340563    5104774\n",
      "...               ...        ...        ...        ...        ...        ...\n",
      "2022-02-18  17.600000  18.480000  17.570000  18.040001  18.040001  106204100\n",
      "2022-02-22  17.670000  17.760000  17.070000  17.290001  17.290001   98550700\n",
      "2022-02-23  17.500000  17.730000  16.879999  16.950001  16.950001   79855400\n",
      "2022-02-24  15.990000  17.190001  15.960000  17.150000  17.150000  110443900\n",
      "2022-02-25  17.250000  17.900000  17.120001  17.830000  17.830000   78772400\n",
      "\n",
      "[12398 rows x 6 columns] \n",
      "np array\n",
      " [ 2.58305311  2.562778    2.53439212 ... 17.5        15.98999977\n",
      " 17.25      ]\n"
     ]
    }
   ],
   "source": [
    "# test lines, run what you need\n",
    "now = dt.datetime.now()\n",
    "start = dt.datetime(1973, 1, 1, 0, 0, 0)\n",
    "end = start + dt.timedelta(days = 60)\n",
    "ford = yf.download('F', start=start, interval='1d')\n",
    "fd = ford.to_numpy()\n",
    "print(ford, \"\\nnp array\\n\", fd[:, 0])"
   ]
  },
  {
   "cell_type": "code",
   "execution_count": 23,
   "metadata": {},
   "outputs": [
    {
     "name": "stdout",
     "output_type": "stream",
     "text": [
      "gianna test\n"
     ]
    }
   ],
   "source": [
    "print(\"gianna test\")"
   ]
  }
 ],
 "metadata": {
  "interpreter": {
   "hash": "73747b0b92f03c88de6e71faef777f6bd2277177a2d3c38f5227d7c796deb457"
  },
  "kernelspec": {
   "display_name": "Python 3.9.10 64-bit (windows store)",
   "language": "python",
   "name": "python3"
  },
  "language_info": {
   "codemirror_mode": {
    "name": "ipython",
    "version": 3
   },
   "file_extension": ".py",
   "mimetype": "text/x-python",
   "name": "python",
   "nbconvert_exporter": "python",
   "pygments_lexer": "ipython3",
   "version": "3.9.10"
  },
  "orig_nbformat": 4
 },
 "nbformat": 4,
 "nbformat_minor": 2
}
