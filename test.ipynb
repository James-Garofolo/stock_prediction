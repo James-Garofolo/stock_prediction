{
 "cells": [
  {
   "cell_type": "code",
   "execution_count": 6,
   "metadata": {},
   "outputs": [],
   "source": [
    "# imports, run always\n",
    "import numpy as np\n",
    "import tensorflow as tf\n",
    "import pandas as pd\n",
    "import pandas_datareader.data as pdr\n",
    "import datetime "
   ]
  },
  {
   "cell_type": "code",
   "execution_count": 7,
   "metadata": {},
   "outputs": [
    {
     "name": "stdout",
     "output_type": "stream",
     "text": [
      "                 High        Low       Open      Close       Volume  Adj Close\n",
      "Date                                                                          \n",
      "2000-02-28  24.317345  23.389990  24.317345  23.458681    9181968.0  12.335814\n",
      "2000-02-29  23.802147  22.634365  23.767801  22.874790    7659252.0  12.028776\n",
      "2000-03-01  23.183910  22.565672  23.012177  22.857618    9631431.0  12.019739\n",
      "2000-03-02  22.977831  22.600019  22.806099  22.737406    5370447.0  11.956531\n",
      "2000-03-03  23.733454  22.703058  22.737406  23.458681    8321801.0  12.335814\n",
      "...               ...        ...        ...        ...          ...        ...\n",
      "2022-02-18  18.480000  17.570000  17.600000  18.040001  106204100.0  18.040001\n",
      "2022-02-22  17.760000  17.070000  17.670000  17.290001   98550700.0  17.290001\n",
      "2022-02-23  17.730000  16.879999  17.500000  16.950001   79855400.0  16.950001\n",
      "2022-02-24  17.190001  15.960000  15.990000  17.150000  110443900.0  17.150000\n",
      "2022-02-25  17.900000  17.120001  17.250000  17.830000   78772400.0  17.830000\n",
      "\n",
      "[5536 rows x 6 columns]\n"
     ]
    }
   ],
   "source": [
    "# test lines, run what you need\n",
    "today = datetime.date(2022, 2, 26)\n",
    "twothousand = datetime.date(2000, 2, 26)\n",
    "ford = pdr.DataReader(\"F\", \"yahoo\", twothousand, today)\n",
    "print(ford)"
   ]
  },
  {
   "cell_type": "code",
   "execution_count": 8,
   "metadata": {},
   "outputs": [
    {
     "name": "stdout",
     "output_type": "stream",
     "text": [
      "gianna test\n"
     ]
    }
   ],
   "source": [
    "print(\"gianna test\")"
   ]
  }
 ],
 "metadata": {
  "interpreter": {
   "hash": "73747b0b92f03c88de6e71faef777f6bd2277177a2d3c38f5227d7c796deb457"
  },
  "kernelspec": {
   "display_name": "Python 3.9.10 64-bit (windows store)",
   "language": "python",
   "name": "python3"
  },
  "language_info": {
   "codemirror_mode": {
    "name": "ipython",
    "version": 3
   },
   "file_extension": ".py",
   "mimetype": "text/x-python",
   "name": "python",
   "nbconvert_exporter": "python",
   "pygments_lexer": "ipython3",
   "version": "3.9.10"
  },
  "orig_nbformat": 4
 },
 "nbformat": 4,
 "nbformat_minor": 2
}
